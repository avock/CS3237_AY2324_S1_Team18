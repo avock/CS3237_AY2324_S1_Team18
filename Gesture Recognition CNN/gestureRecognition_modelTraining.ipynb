{
  "nbformat": 4,
  "nbformat_minor": 0,
  "metadata": {
    "colab": {
      "provenance": [],
      "gpuType": "T4"
    },
    "kernelspec": {
      "name": "python3",
      "display_name": "Python 3"
    },
    "language_info": {
      "name": "python"
    },
    "accelerator": "GPU"
  },
  "cells": [
    {
      "cell_type": "code",
      "source": [
        "from google.colab import files\n",
        "files.upload()"
      ],
      "metadata": {
        "id": "J2FxrIwRvg7B"
      },
      "execution_count": null,
      "outputs": []
    },
    {
      "cell_type": "code",
      "source": [
        "! mkdir ~/.kaggle\n",
        "\n",
        "! cp kaggle.json ~/.kaggle/\n",
        "\n",
        "! chmod 600 ~/.kaggle/kaggle.json\n",
        "\n",
        "! kaggle datasets list"
      ],
      "metadata": {
        "colab": {
          "base_uri": "https://localhost:8080/"
        },
        "id": "jMbniEc4vjDR",
        "outputId": "cdbc4c53-7bea-4b45-fce6-73d756280bb5"
      },
      "execution_count": null,
      "outputs": [
        {
          "output_type": "stream",
          "name": "stdout",
          "text": [
            "mkdir: cannot create directory ‘/root/.kaggle’: File exists\n",
            "ref                                                         title                                             size  lastUpdated          downloadCount  voteCount  usabilityRating  \n",
            "----------------------------------------------------------  -----------------------------------------------  -----  -------------------  -------------  ---------  ---------------  \n",
            "iamsouravbanerjee/customer-shopping-trends-dataset          Customer Shopping Trends Dataset                 146KB  2023-10-05 06:45:37          21786        455  1.0              \n",
            "samyakb/student-stress-factors                              Student stress factors                            887B  2023-11-02 12:42:11           2390         56  0.9411765        \n",
            "nelgiriyewithana/billionaires-statistics-dataset            Billionaires Statistics Dataset (2023)           139KB  2023-09-29 13:39:28          11976        288  1.0              \n",
            "joebeachcapital/30000-spotify-songs                         30000 Spotify Songs                                3MB  2023-11-01 06:06:43           2097         53  1.0              \n",
            "prasad22/healthcare-dataset                                 Healthcare Dataset                               483KB  2023-10-31 11:30:58           1529         34  1.0              \n",
            "rajatkumar30/fake-news                                      Fake News Prediction Dataset                      11MB  2023-11-03 17:26:38            702         29  1.0              \n",
            "nelgiriyewithana/world-educational-data                     World Educational Data                             9KB  2023-11-04 06:10:17           1439         44  1.0              \n",
            "mahmoudshogaa/us-crime-rates-1960-2014                      US_Crime_Rates_1960_2014                           3KB  2023-10-28 03:50:46           1115         26  1.0              \n",
            "purusinghvi/email-spam-classification-dataset               Spam Email Classification Dataset                 43MB  2023-11-06 10:43:38            467         24  1.0              \n",
            "thedrcat/daigt-proper-train-dataset                         DAIGT Proper Train Dataset                       119MB  2023-11-05 14:03:25            384         72  1.0              \n",
            "rajatkumar30/streaming-application-viewership               Streaming Application                            471KB  2023-10-20 22:12:06            745         23  1.0              \n",
            "rajatsurana979/fast-food-sales-report                       Restaurant Sales report                          122KB  2023-11-06 20:46:39           1292         37  1.0              \n",
            "zeesolver/consumer-behavior-and-shopping-habits-dataset     Consumer Behavior and Shopping Habits Dataset:   146KB  2023-10-19 13:36:26           4205         65  1.0              \n",
            "adeolaadesina/factors-affecting-children-anemia-level       Factors Affecting Children Anemia Level          258KB  2023-10-26 13:13:02           1318         25  1.0              \n",
            "sujaykapadnis/hollywood-hits-and-flops-2007-2023            Hollywood Hits and Flops [2007 - 2023]           204KB  2023-10-26 13:04:38           1262         34  1.0              \n",
            "anshika2301/hr-analytics-dataset                            HR Analytics Dataset                             209KB  2023-10-27 14:57:47           1237         30  1.0              \n",
            "victorahaji/worlds-air-quality-and-water-pollution-dataset  World's Air Quality and Water Pollution Dataset   58KB  2023-10-30 12:37:47           2210         45  0.9411765        \n",
            "jonwright13/ufo-sightings-around-the-world-better           UFO Sightings Around The World (Better)            5MB  2023-10-25 14:08:19            632         25  0.9411765        \n",
            "amirmahdiabbootalebi/salary-by-job-title-and-country        Salary by Job Title and Country                   37KB  2023-11-02 06:37:13           1192         32  1.0              \n",
            "anshtanwar/monthly-food-price-estimates                     Global Food Price Inflation                      254KB  2023-10-21 15:33:25           6671        104  1.0              \n"
          ]
        }
      ]
    },
    {
      "cell_type": "code",
      "source": [
        "! kaggle datasets download -d sarjit07/hand-gesture-recog-dataset"
      ],
      "metadata": {
        "colab": {
          "base_uri": "https://localhost:8080/"
        },
        "id": "InJ6u29DvlqB",
        "outputId": "3a77f6e5-6daa-4876-f353-996686468e97"
      },
      "execution_count": null,
      "outputs": [
        {
          "output_type": "stream",
          "name": "stdout",
          "text": [
            "Downloading hand-gesture-recog-dataset.zip to /content\n",
            "100% 42.9M/42.9M [00:03<00:00, 22.5MB/s]\n",
            "100% 42.9M/42.9M [00:03<00:00, 14.2MB/s]\n"
          ]
        }
      ]
    },
    {
      "cell_type": "code",
      "source": [
        "import zipfile\n",
        "zip_ref = zipfile.ZipFile('hand-gesture-recog-dataset.zip', 'r')\n",
        "zip_ref.extractall('/content')\n",
        "zip_ref.close()"
      ],
      "metadata": {
        "id": "naEMsMZFvuz7"
      },
      "execution_count": null,
      "outputs": []
    },
    {
      "cell_type": "code",
      "source": [
        "import numpy as np # We'll be storing our data as numpy arrays\n",
        "import os # For handling directories\n",
        "from PIL import Image # For handling the images\n",
        "import matplotlib.pyplot as plt\n",
        "import matplotlib.image as mpimg # Plotting"
      ],
      "metadata": {
        "id": "kGycwru_BM2E"
      },
      "execution_count": null,
      "outputs": []
    },
    {
      "cell_type": "code",
      "execution_count": null,
      "metadata": {
        "colab": {
          "base_uri": "https://localhost:8080/"
        },
        "id": "t-cPdqS-uyrm",
        "outputId": "7793c86d-940c-4717-d0c1-31c0bacf5528"
      },
      "outputs": [
        {
          "output_type": "execute_result",
          "data": {
            "text/plain": [
              "['/content/data/thumbsup',\n",
              " '/content/data/ok',\n",
              " '/content/data/blank',\n",
              " '/content/data/thumbsdown',\n",
              " '/content/data/five',\n",
              " '/content/data/fist']"
            ]
          },
          "metadata": {},
          "execution_count": 5
        }
      ],
      "source": [
        "# Loading the Dataset\n",
        "\n",
        "DATASET_PATH = '/content/data'\n",
        "\n",
        "dataset_path = os.path.join(DATASET_PATH, '*')\n",
        "import glob\n",
        "dataset_path = glob.glob(dataset_path)\n",
        "dataset_path"
      ]
    },
    {
      "cell_type": "code",
      "source": [
        "import cv2\n",
        "image = cv2.imread('/content/data/five/hand1(1015).jpg')\n",
        "image = cv2.resize(image,(100, 120))\n",
        "plt.imshow(cv2.cvtColor(image, cv2.COLOR_BGR2RGB))"
      ],
      "metadata": {
        "colab": {
          "base_uri": "https://localhost:8080/",
          "height": 451
        },
        "id": "UF6QwLl5vIh5",
        "outputId": "d27101b4-855d-4f3c-f2bf-67ad39991b03"
      },
      "execution_count": null,
      "outputs": [
        {
          "output_type": "execute_result",
          "data": {
            "text/plain": [
              "<matplotlib.image.AxesImage at 0x7985bff4f520>"
            ]
          },
          "metadata": {},
          "execution_count": 6
        },
        {
          "output_type": "display_data",
          "data": {
            "text/plain": [
              "<Figure size 640x480 with 1 Axes>"
            ],
            "image/png": "[encoded data removed]"
          },
          "metadata": {}
        }
      ]
    },
    {
      "cell_type": "code",
      "source": [
        "loaded_images = []\n",
        "\n",
        "list_of_gestures = ['blank', 'fist', 'five']\n",
        "\n",
        "# to convert the image to grayscale for CNN model training\n",
        "for path in range(0, 3):\n",
        "    dataset_path = \"/content/data/\" + str(list_of_gestures[path])\n",
        "    gesture_path = os.path.join(dataset_path, '*')\n",
        "    import glob\n",
        "    gest_path = glob.glob(gesture_path)\n",
        "    k = 0\n",
        "    for i in range(0, len(gest_path)):\n",
        "        if k < 1600:\n",
        "            image = cv2.imread(gest_path[i])\n",
        "            gray_image = cv2.cvtColor(image, cv2.COLOR_BGR2GRAY)\n",
        "            gray_image = cv2.resize(gray_image,(100, 120))\n",
        "            loaded_images.append(gray_image)\n",
        "        k=k+1\n",
        "print(len(loaded_images))\n",
        "\n",
        "y_data = []\n",
        "\n",
        "for i in range(3):\n",
        "  for j in range(1600):\n",
        "    y_data.append(i)\n",
        "\n",
        "print(len(y_data))"
      ],
      "metadata": {
        "colab": {
          "base_uri": "https://localhost:8080/"
        },
        "id": "xNbJM4iEvTI0",
        "outputId": "7f30500d-4009-4fac-df44-693d727f4cf0"
      },
      "execution_count": null,
      "outputs": [
        {
          "output_type": "stream",
          "name": "stdout",
          "text": [
            "4800\n",
            "4800\n"
          ]
        }
      ]
    },
    {
      "cell_type": "code",
      "source": [
        "x = np.asarray(loaded_images)\n",
        "x = x.reshape((4800, 1, 120, 100))\n",
        "y = np.asarray(y_data)\n",
        "print(x.shape)\n",
        "print(y.shape)"
      ],
      "metadata": {
        "colab": {
          "base_uri": "https://localhost:8080/"
        },
        "id": "Fr9SNVCW_mPi",
        "outputId": "5d616318-e128-433b-c9c8-985a554c13ef"
      },
      "execution_count": null,
      "outputs": [
        {
          "output_type": "stream",
          "name": "stdout",
          "text": [
            "(4800, 1, 120, 100)\n",
            "(4800,)\n"
          ]
        }
      ]
    },
    {
      "cell_type": "code",
      "source": [
        "import torch\n",
        "import torch.nn as nn\n",
        "import torch.nn.functional as F\n",
        "import torch.optim as optim\n",
        "from torch.utils.data import TensorDataset, DataLoader"
      ],
      "metadata": {
        "id": "3OfKpTJuveVv"
      },
      "execution_count": null,
      "outputs": []
    },
    {
      "cell_type": "code",
      "source": [
        "x_data_tensor = torch.Tensor(x)\n",
        "y_data_tensor = torch.Tensor(y).to(torch.int64)"
      ],
      "metadata": {
        "id": "qfaq6lJ5EQ6T"
      },
      "execution_count": null,
      "outputs": []
    },
    {
      "cell_type": "code",
      "source": [
        "from sklearn.model_selection import train_test_split\n",
        "# to split dataset into training and testing sets\n",
        "x_train,x_test,y_train,y_test = train_test_split(x_data_tensor,y_data_tensor,test_size = 0.3)"
      ],
      "metadata": {
        "id": "HOaorW_sC4ui"
      },
      "execution_count": null,
      "outputs": []
    },
    {
      "cell_type": "code",
      "source": [
        "train_dataset = TensorDataset(x_train, y_train)\n",
        "test_dataset = TensorDataset(x_test, y_test)\n",
        "\n",
        "train_loader = DataLoader(train_dataset, batch_size = 64)\n",
        "test_loader = DataLoader(test_dataset, batch_size = 64)\n",
        "\n",
        "train_loader"
      ],
      "metadata": {
        "colab": {
          "base_uri": "https://localhost:8080/"
        },
        "id": "-GQuLaLqC5Yh",
        "outputId": "cc4981af-7be6-4ec3-e00c-70b216cdde94"
      },
      "execution_count": null,
      "outputs": [
        {
          "output_type": "execute_result",
          "data": {
            "text/plain": [
              "<torch.utils.data.dataloader.DataLoader at 0x7984fd777460>"
            ]
          },
          "metadata": {},
          "execution_count": 22
        }
      ]
    },
    {
      "cell_type": "code",
      "source": [
        "class CNNModel(nn.Module):\n",
        "    def __init__(self): # class constructor function\n",
        "\n",
        "        super(CNNModel, self).__init__() # initialize an instance of the parent class\n",
        "\n",
        "        # first convolutional and maxpool layer\n",
        "        # input 1x120x100, output 16x116x96\n",
        "        self.conv1 = nn.Conv2d(in_channels = 1, out_channels = 16, kernel_size=(5, 5))\n",
        "        # input 16x116x96, output 16x58x48\n",
        "        self.maxpool1 = nn.MaxPool2d(kernel_size=(2, 2), stride=(2, 2))\n",
        "\n",
        "        # second convolutional and maxpool layer\n",
        "        # input 16x58x48, output 32x54x44\n",
        "        self.conv2 = nn.Conv2d(in_channels=16, out_channels=32, kernel_size=(5, 5))\n",
        "        # input 32x54x44, output 32x27x22\n",
        "        self.maxpool2 = nn.MaxPool2d(kernel_size=(2, 2), stride=(2, 2))\n",
        "\n",
        "        # linear layer\n",
        "        self.fc1 = nn.Linear(in_features=19008, out_features=120)\n",
        "        self.fc2 = nn.Linear(120,84)\n",
        "        self.fc3 = nn.Linear(84,3)\n",
        "\n",
        "\n",
        "    def forward(self, x):\n",
        "        # Layer 1\n",
        "        x = self.conv1(x)\n",
        "        x = F.relu(x)\n",
        "        x = self.maxpool1(x)\n",
        "\n",
        "        # Layer 2\n",
        "        x = self.conv2(x)\n",
        "        x = F.relu(x)\n",
        "        x = self.maxpool2(x)\n",
        "\n",
        "        # Output Fully Connected Layers\n",
        "        x = torch.flatten(x, 1)\n",
        "        x = self.fc1(x)\n",
        "        x = F.relu(x)\n",
        "        x = self.fc2(x)\n",
        "        x = F.relu(x)\n",
        "        x = self.fc3(x)\n",
        "        output = x\n",
        "\n",
        "        # return the output predictions\n",
        "        return output\n",
        "\n",
        "model = CNNModel()"
      ],
      "metadata": {
        "id": "LJnGWKny-36o"
      },
      "execution_count": null,
      "outputs": []
    },
    {
      "cell_type": "code",
      "source": [
        "# define training hyperparameters\n",
        "lr = 1e-2 # learning rate\n",
        "num_epochs = 50 # number of epochs\n",
        "\n",
        "# set the device we will be using to train the model (to enable hardware acceleration)\n",
        "device = torch.device(\"cuda\" if torch.cuda.is_available() else \"cpu\")\n",
        "\n",
        "criterion = nn.CrossEntropyLoss() # loss function\n",
        "# optimizer = optim.SGD(model.parameters(), lr=lr, momentum=0.9) # optimizer\n",
        "optimizer = optim.Adam(model.parameters(), lr=lr)\n",
        "\n",
        "model.to(device)\n",
        "\n",
        "for e in range(0, num_epochs):\n",
        "\t# set the model in training mode\n",
        "\tmodel.train()\n",
        "\n",
        "  # initialize the total training and validation loss\n",
        "\ttotalTrainLoss = 0\n",
        "\n",
        "  # initialize the number of correct predictions in the training\n",
        "\t# and validation step\n",
        "\ttrainCorrect = 0\n",
        "\n",
        "  # loop over the training set\n",
        "\tfor i, (x, y) in enumerate(train_loader):\n",
        "\n",
        "    # send the input to the device\n",
        "\t\t(x, y) = (x.to(device), y.to(device))\n",
        "\n",
        "\t\tpred = model(x) # forward pass\n",
        "\t\tloss = criterion(pred, y) # compute training loss\n",
        "\n",
        "\t\toptimizer.zero_grad() # zero out the gradients\n",
        "\t\tloss.backward() # perform backpropagation step\n",
        "\t\toptimizer.step() # update weights\n",
        "\n",
        "\t\t# calculate the number of correct predictions\n",
        "\t\ttotalTrainLoss += loss # add the loss to the cumulative training loss\n",
        "\tprint(\"Epoch\", e, \"Training Loss:\", totalTrainLoss.item())"
      ],
      "metadata": {
        "colab": {
          "base_uri": "https://localhost:8080/"
        },
        "id": "dzozLxFR-4VZ",
        "outputId": "91238723-aaa9-4200-f5de-41f307efaf04"
      },
      "execution_count": null,
      "outputs": [
        {
          "output_type": "stream",
          "name": "stdout",
          "text": [
            "Epoch 0 Training Loss: 529.3844604492188\n",
            "Epoch 1 Training Loss: 10.585504531860352\n",
            "Epoch 2 Training Loss: 3.550658941268921\n",
            "Epoch 3 Training Loss: 1.1858636140823364\n",
            "Epoch 4 Training Loss: 0.46529069542884827\n",
            "Epoch 5 Training Loss: 0.8197588920593262\n",
            "Epoch 6 Training Loss: 0.34876748919487\n",
            "Epoch 7 Training Loss: 0.12606610357761383\n",
            "Epoch 8 Training Loss: 0.07592780888080597\n",
            "Epoch 9 Training Loss: 0.008394180797040462\n",
            "Epoch 10 Training Loss: 0.0021778112277388573\n",
            "Epoch 11 Training Loss: 0.0015005990862846375\n",
            "Epoch 12 Training Loss: 0.0011776882456615567\n",
            "Epoch 13 Training Loss: 0.0009585160296410322\n",
            "Epoch 14 Training Loss: 0.0007998263463377953\n",
            "Epoch 15 Training Loss: 0.0006805239245295525\n",
            "Epoch 16 Training Loss: 0.0005877163494005799\n",
            "Epoch 17 Training Loss: 0.0005139040295034647\n",
            "Epoch 18 Training Loss: 0.0004540436202660203\n",
            "Epoch 19 Training Loss: 0.0004045404784847051\n",
            "Epoch 20 Training Loss: 0.00036308704875409603\n",
            "Epoch 21 Training Loss: 0.0003278452786616981\n",
            "Epoch 22 Training Loss: 0.0002975727547891438\n",
            "Epoch 23 Training Loss: 0.00027163431514054537\n",
            "Epoch 24 Training Loss: 0.0002490652841515839\n",
            "Epoch 25 Training Loss: 0.00022867912775836885\n",
            "Epoch 26 Training Loss: 0.00021152275439817458\n",
            "Epoch 27 Training Loss: 0.0001955322950379923\n",
            "Epoch 28 Training Loss: 0.0001826710649766028\n",
            "Epoch 29 Training Loss: 0.00017129050684161484\n",
            "Epoch 30 Training Loss: 0.00015972000255715102\n",
            "Epoch 31 Training Loss: 0.00015018526755739003\n",
            "Epoch 32 Training Loss: 0.00014147198817227036\n",
            "Epoch 33 Training Loss: 0.00013315728574525565\n",
            "Epoch 34 Training Loss: 0.00012460790458135307\n",
            "Epoch 35 Training Loss: 0.00011777208419516683\n",
            "Epoch 36 Training Loss: 0.00011166829062858596\n",
            "Epoch 37 Training Loss: 0.0001060133654391393\n",
            "Epoch 38 Training Loss: 0.00010067511175293475\n",
            "Epoch 39 Training Loss: 9.577082528267056e-05\n",
            "Epoch 40 Training Loss: 8.992034418042749e-05\n",
            "Epoch 41 Training Loss: 8.571641228627414e-05\n",
            "Epoch 42 Training Loss: 8.172853267751634e-05\n",
            "Epoch 43 Training Loss: 7.799398008501157e-05\n",
            "Epoch 44 Training Loss: 7.445500523317605e-05\n",
            "Epoch 45 Training Loss: 7.119540532585233e-05\n",
            "Epoch 46 Training Loss: 6.802334974054247e-05\n",
            "Epoch 47 Training Loss: 6.495374691439793e-05\n",
            "Epoch 48 Training Loss: 6.211696745594963e-05\n",
            "Epoch 49 Training Loss: 5.9380781749496236e-05\n"
          ]
        }
      ]
    },
    {
      "cell_type": "code",
      "source": [
        "import numpy as np\n",
        "model.eval() # enable model evaluation mode\n",
        "correct_sum_train = 0\n",
        "total_train = 0\n",
        "correct_sum_test = 0\n",
        "total_test = 0\n",
        "with torch.no_grad():\n",
        "  for i, (data, target) in enumerate(train_loader):\n",
        "\n",
        "    # send the input to the device\n",
        "    (data, target) = (data.to(device), target.to(device))\n",
        "    output = model(data)\n",
        "\n",
        "    # convert output probabilities to predicted class\n",
        "    _, pred = torch.max(output, 1)\n",
        "    # _, target = torch.max(target, 1)\n",
        "\n",
        "    # compare predictions to true label\n",
        "    correct_tensor = pred.eq(target)\n",
        "    correct = np.squeeze(correct_tensor)\n",
        "\n",
        "    # calculate train accuracy\n",
        "    correct_sum_train += correct.sum().item()\n",
        "    total_train += target.size(0)\n",
        "\n",
        "\n",
        "correct_count = np.sum(correct_sum_train)\n",
        "total_count = np.sum(total_train)\n",
        "train_accuracy =  round(100.0 * (correct_count / total_count), 6)\n",
        "formatted_accuracy = \"{:.6f}\".format(train_accuracy)\n",
        "\n",
        "print(f\"Train Accuracy (Overall): {formatted_accuracy} ({correct_count}/{total_count})\")\n",
        "\n",
        "with torch.no_grad():\n",
        "  for i, (data, target) in enumerate(test_loader):\n",
        "\n",
        "    # send the input to the device\n",
        "    (data, target) = (data.to(device), target.to(device))\n",
        "    output = model(data)\n",
        "\n",
        "    # convert output probabilities to predicted class\n",
        "    _, pred = torch.max(output, 1)\n",
        "    # _, target = torch.max(target, 1)\n",
        "\n",
        "    # compare predictions to true label\n",
        "    correct_tensor = pred.eq(target)\n",
        "    correct = np.squeeze(correct_tensor)\n",
        "\n",
        "    # calculate test accuracy\n",
        "    correct_sum_test += correct.sum().item()\n",
        "    total_test += target.size(0)\n",
        "\n",
        "\n",
        "correct_count = np.sum(correct_sum_test)\n",
        "total_count = np.sum(total_test)\n",
        "test_accuracy =  round(100.0 * (correct_count / total_count), 6)\n",
        "formatted_accuracy = \"{:.6f}\".format(test_accuracy)\n",
        "\n",
        "print(f\"Test Accuracy (Overall): {formatted_accuracy} ({correct_count}/{total_count})\")"
      ],
      "metadata": {
        "colab": {
          "base_uri": "https://localhost:8080/"
        },
        "id": "vgd6J627KAUE",
        "outputId": "836db523-2828-4939-dc1c-2b3956614aa2"
      },
      "execution_count": null,
      "outputs": [
        {
          "output_type": "stream",
          "name": "stdout",
          "text": [
            "Train Accuracy (Overall): 100.000000 (3360/3360)\n",
            "Test Accuracy (Overall): 98.958333 (1425/1440)\n"
          ]
        }
      ]
    },
    {
      "cell_type": "code",
      "source": [
        "# to save the trained model as .pt file\n",
        "model_save_name = 'handclassifier6.pt'\n",
        "# path = f\"/content/drive/MyDrive/{model_save_name}\"\n",
        "path = f\"/content/{model_save_name}\"\n",
        "torch.save(model.state_dict(), path)"
      ],
      "metadata": {
        "id": "FfO3ce7xe7SL"
      },
      "execution_count": null,
      "outputs": []
    }
  ]
}